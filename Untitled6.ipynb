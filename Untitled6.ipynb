{
  "nbformat": 4,
  "nbformat_minor": 0,
  "metadata": {
    "colab": {
      "provenance": []
    },
    "kernelspec": {
      "name": "python3",
      "display_name": "Python 3"
    },
    "language_info": {
      "name": "python"
    }
  },
  "cells": [
    {
      "cell_type": "code",
      "execution_count": null,
      "metadata": {
        "colab": {
          "base_uri": "https://localhost:8080/"
        },
        "id": "0a0SSVCU6x4o",
        "outputId": "8c203d76-ab18-4bc2-d995-a45d36ecfa36"
      },
      "outputs": [
        {
          "output_type": "stream",
          "name": "stdout",
          "text": [
            "Overwriting Q1.cpp\n"
          ]
        }
      ],
      "source": [
        "# cheak the number is odd and even\n",
        "%%file Q1.cpp\n",
        "#include<iostream>\n",
        "using namespace std;\n",
        "bool isodd( int num){\n",
        "    if(num%2==0){\n",
        "        return false;\n",
        "\n",
        "    }\n",
        "    else{\n",
        "        return true;\n",
        "    }\n",
        "\n",
        "}\n",
        "int main(){\n",
        "    int a;\n",
        "    cin>>a;\n",
        "    for ( int i=1;i<=a;i++){\n",
        "        if(isodd(i)){\n",
        "            cout<<i<<\" \";\n",
        "        }\n",
        "    }\n",
        "}"
      ]
    },
    {
      "cell_type": "code",
      "source": [
        "!g++ Q1.cpp\n",
        "!./a.out"
      ],
      "metadata": {
        "colab": {
          "base_uri": "https://localhost:8080/"
        },
        "id": "q1f4RG2W8Uk5",
        "outputId": "ab37b079-9cb5-4de2-dc59-f290e4de2a1b"
      },
      "execution_count": null,
      "outputs": [
        {
          "output_type": "stream",
          "name": "stdout",
          "text": [
            "110\n",
            "1 3 5 7 9 11 13 15 17 19 21 23 25 27 29 31 33 35 37 39 41 43 45 47 49 51 53 55 57 59 61 63 65 67 69 71 73 75 77 79 81 83 85 87 89 91 93 95 97 99 101 103 105 107 109 "
          ]
        }
      ]
    },
    {
      "cell_type": "code",
      "source": [
        "%%file Q2.cpp\n",
        "#include<iostream>\n",
        "using namespace std;\n",
        "bool isprime(int n){\n",
        "    for( int i=2;i<=(n-1);i++){\n",
        "        if(n%i==0)\n",
        "            return false;\n",
        "\n",
        "\n",
        "        }\n",
        "    return true;\n",
        "    }\n",
        "\n",
        "\n",
        "int main(){\n",
        "    int n;\n",
        "           cin>>n;\n",
        "            cout<<isprime(n);\n",
        "\n",
        "}"
      ],
      "metadata": {
        "colab": {
          "base_uri": "https://localhost:8080/"
        },
        "id": "nRonlrO487l2",
        "outputId": "d6fd7bdd-89a3-4674-8311-d12b6b730758"
      },
      "execution_count": null,
      "outputs": [
        {
          "output_type": "stream",
          "name": "stdout",
          "text": [
            "Overwriting Q2.cpp\n"
          ]
        }
      ]
    },
    {
      "cell_type": "code",
      "source": [
        "!g++ Q2.cpp\n",
        "!./a.out"
      ],
      "metadata": {
        "colab": {
          "base_uri": "https://localhost:8080/"
        },
        "id": "mkPJ7a-P912I",
        "outputId": "5f30db7e-5203-4d1e-8514-d6fce6301921"
      },
      "execution_count": null,
      "outputs": [
        {
          "output_type": "stream",
          "name": "stdout",
          "text": [
            "79\n",
            "1"
          ]
        }
      ]
    },
    {
      "cell_type": "code",
      "source": [
        "#array\n",
        "%%file Q3.cpp\n",
        "#include<iostream>\n",
        "using namespace std;\n",
        "int main(){\n",
        "    int array[]={1,7,9,4,5};\n",
        "\n",
        "\n",
        "   // cout<<sizeof(array)<<endl;\n",
        "int v=sizeof(array)/sizeof(array[0])\n",
        "\n",
        "\n",
        "    for( int i=0;i<v;i++){\n",
        "    cout<<array[i]<<endl;\n",
        "    }\n",
        "\n",
        "    }"
      ],
      "metadata": {
        "colab": {
          "base_uri": "https://localhost:8080/"
        },
        "id": "KwOT8BUfAKGY",
        "outputId": "82610bf6-490e-478b-eb5a-d821e0cca77a"
      },
      "execution_count": null,
      "outputs": [
        {
          "output_type": "stream",
          "name": "stdout",
          "text": [
            "Overwriting Q3.cpp\n"
          ]
        }
      ]
    },
    {
      "cell_type": "code",
      "source": [
        "!g++ Q3.cpp\n",
        "!./a.out\n"
      ],
      "metadata": {
        "colab": {
          "base_uri": "https://localhost:8080/"
        },
        "id": "LCC_aqhGAjIv",
        "outputId": "3175b7e0-a709-4176-88bb-c52974d8489e"
      },
      "execution_count": null,
      "outputs": [
        {
          "output_type": "stream",
          "name": "stdout",
          "text": [
            "\u001b[01m\u001b[KQ3.cpp:\u001b[m\u001b[K In function ‘\u001b[01m\u001b[Kint main()\u001b[m\u001b[K’:\n",
            "\u001b[01m\u001b[KQ3.cpp:11:5:\u001b[m\u001b[K \u001b[01;31m\u001b[Kerror: \u001b[m\u001b[Kexpected ‘\u001b[01m\u001b[K,\u001b[m\u001b[K’ or ‘\u001b[01m\u001b[K;\u001b[m\u001b[K’ before ‘\u001b[01m\u001b[Kfor\u001b[m\u001b[K’\n",
            "   11 |     \u001b[01;31m\u001b[Kfor\u001b[m\u001b[K( int i=0;i<v;i++){\n",
            "      |     \u001b[01;31m\u001b[K^~~\u001b[m\u001b[K\n",
            "\u001b[01m\u001b[KQ3.cpp:11:18:\u001b[m\u001b[K \u001b[01;31m\u001b[Kerror: \u001b[m\u001b[K‘\u001b[01m\u001b[Ki\u001b[m\u001b[K’ was not declared in this scope\n",
            "   11 |     for( int i=0;\u001b[01;31m\u001b[Ki\u001b[m\u001b[K<v;i++){\n",
            "      |                  \u001b[01;31m\u001b[K^\u001b[m\u001b[K\n",
            "20\n",
            "5\n"
          ]
        }
      ]
    },
    {
      "cell_type": "code",
      "source": [],
      "metadata": {
        "id": "fFCkuHBHApmu"
      },
      "execution_count": null,
      "outputs": []
    },
    {
      "cell_type": "code",
      "source": [
        "#array\n",
        "%%file Q3.cpp\n",
        "#include<iostream>\n",
        "using namespace std;\n",
        "int main(){\n",
        "    int array[]={1,7,9,4,5};\n",
        "int v=sizeof(array)/sizeof(array[0]);\n",
        "for( int i=0;i<v;i++){\n",
        "    cout<<array[i]<<endl;\n",
        "    }\n",
        "    for(int ele:array){\n",
        "        cout<<ele<<endl;\n",
        "    }\n",
        "\n",
        "    }"
      ],
      "metadata": {
        "colab": {
          "base_uri": "https://localhost:8080/"
        },
        "id": "V50DvGLFDRgE",
        "outputId": "e391932f-b753-4a2c-8aa6-7b6535d1c979"
      },
      "execution_count": null,
      "outputs": [
        {
          "output_type": "stream",
          "name": "stdout",
          "text": [
            "Overwriting Q3.cpp\n"
          ]
        }
      ]
    },
    {
      "cell_type": "code",
      "source": [
        "!g++ Q3.cpp\n",
        "!./a.out"
      ],
      "metadata": {
        "colab": {
          "base_uri": "https://localhost:8080/"
        },
        "id": "PUkhi3xsDVIa",
        "outputId": "0e44c93c-60ca-4933-9b05-21a4b709e1b4"
      },
      "execution_count": null,
      "outputs": [
        {
          "output_type": "stream",
          "name": "stdout",
          "text": [
            "1\n",
            "7\n",
            "9\n",
            "4\n",
            "5\n",
            "1\n",
            "7\n",
            "9\n",
            "4\n",
            "5\n"
          ]
        }
      ]
    },
    {
      "cell_type": "code",
      "source": [
        "# input of the aray\n",
        "%%file Q4.cpp\n",
        "#include<iostream>\n",
        "using namespace std;\n",
        "int main(){\n",
        "  char voi[5];\n",
        "  for ( int ind=0;ind<5;ind++){\n",
        "      cin>>voi[ind];\n",
        "  }\n",
        "    for ( int ind=0;ind<5;ind++){\n",
        "      cout<<voi[ind];\n",
        "  }\n",
        "}"
      ],
      "metadata": {
        "colab": {
          "base_uri": "https://localhost:8080/"
        },
        "id": "fuZgXjp4ErmL",
        "outputId": "b6730334-934a-43ab-f6e7-a0a0ffb731b2"
      },
      "execution_count": null,
      "outputs": [
        {
          "output_type": "stream",
          "name": "stdout",
          "text": [
            "Overwriting Q4.cpp\n"
          ]
        }
      ]
    },
    {
      "cell_type": "code",
      "source": [
        "!g++ Q4.cpp\n",
        "!./a.out"
      ],
      "metadata": {
        "colab": {
          "base_uri": "https://localhost:8080/"
        },
        "id": "BNzq6yBYFXvL",
        "outputId": "311974bc-9ced-4cc1-ede8-6f1d12272cea"
      },
      "execution_count": null,
      "outputs": [
        {
          "output_type": "stream",
          "name": "stdout",
          "text": [
            "h\n",
            "i\n",
            "v\n",
            "a\n",
            "n\n",
            "hivan"
          ]
        }
      ]
    },
    {
      "cell_type": "code",
      "source": [
        "# find the sum of the given array\n",
        "%%file Q5.cpp\n",
        "#include<iostream>\n",
        "using namespace std;\n",
        "int main(){\n",
        "    int arr[]={1,2,5,7,8};\n",
        "    int sum=0;\n",
        "    int v= sizeof(arr)/sizeof(arr[0]);\n",
        "    for(int i=0;i<v;i++){\n",
        "        cout<<arr[i]<<endl;\n",
        "        sum+=arr[i];\n",
        "\n",
        "\n",
        "    }\n",
        "     cout<<sum<<endl;\n",
        "}"
      ],
      "metadata": {
        "colab": {
          "base_uri": "https://localhost:8080/"
        },
        "id": "gHEbO0V8G8ic",
        "outputId": "59e1a653-9ce5-49d7-b5c6-29242ab6478b"
      },
      "execution_count": null,
      "outputs": [
        {
          "output_type": "stream",
          "name": "stdout",
          "text": [
            "Overwriting Q5.cpp\n"
          ]
        }
      ]
    },
    {
      "cell_type": "code",
      "source": [
        "!g++ Q5.cpp\n",
        "!./a.out"
      ],
      "metadata": {
        "colab": {
          "base_uri": "https://localhost:8080/"
        },
        "id": "3W3cUstXH3Cd",
        "outputId": "dd40d7e0-ec89-4e29-ad2c-f5c30fa1cdc4"
      },
      "execution_count": null,
      "outputs": [
        {
          "output_type": "stream",
          "name": "stdout",
          "text": [
            "1\n",
            "2\n",
            "5\n",
            "7\n",
            "8\n",
            "23\n"
          ]
        }
      ]
    },
    {
      "cell_type": "code",
      "source": [
        "#find the max elemnet of the array\n",
        "%%file Q6.cpp\n",
        "#include<iostream>\n",
        "using namespace std;\n",
        "int main(){\n",
        "    int arr[]={2,4,65,78,98};\n",
        "    int max=arr[0];\n",
        "    for ( int i=1;i<5;i++){\n",
        "        if ( arr[i]>max){\n",
        "            max=arr[i];\n",
        "        }\n",
        "    }\n",
        "    cout<<max<<endl;\n",
        "}"
      ],
      "metadata": {
        "colab": {
          "base_uri": "https://localhost:8080/"
        },
        "id": "wiHJQ3-WJY95",
        "outputId": "a75183a3-c0b6-47f6-99ad-c652f54f7f0a"
      },
      "execution_count": null,
      "outputs": [
        {
          "output_type": "stream",
          "name": "stdout",
          "text": [
            "Writing Q6.cpp\n"
          ]
        }
      ]
    },
    {
      "cell_type": "code",
      "source": [
        "!g++ Q6.cpp\n",
        "!./a.out"
      ],
      "metadata": {
        "colab": {
          "base_uri": "https://localhost:8080/"
        },
        "id": "sUxEkJUxKH7M",
        "outputId": "7bd9f989-39f7-4c6a-a541-cb539d71648a"
      },
      "execution_count": null,
      "outputs": [
        {
          "output_type": "stream",
          "name": "stdout",
          "text": [
            "98\n"
          ]
        }
      ]
    },
    {
      "cell_type": "code",
      "source": [
        "# linear search\n",
        "%%file Q7.cpp\n",
        "# include<iostream>\n",
        "using namespace std;\n",
        "int main(){\n",
        "    int n;\n",
        "    cin>>n;\n",
        "    int arre=-1;\n",
        "    int arr[]={3,5, 6,7,9};\n",
        "    for ( int i=0;i<5;i++){\n",
        "        if(arr[i]==n){\n",
        "             arre=sizeof(arr[i]);\n",
        "        }\n",
        "\n",
        "    }\n",
        "    cout<<arre<<endl;\n",
        "}"
      ],
      "metadata": {
        "colab": {
          "base_uri": "https://localhost:8080/"
        },
        "id": "-WsCaLZGK-3a",
        "outputId": "5b61df16-2ea0-46e4-c908-556d23738242"
      },
      "execution_count": null,
      "outputs": [
        {
          "output_type": "stream",
          "name": "stdout",
          "text": [
            "Overwriting Q7.cpp\n"
          ]
        }
      ]
    },
    {
      "cell_type": "code",
      "source": [
        "!g++ Q7.cpp\n",
        "!./a.out"
      ],
      "metadata": {
        "colab": {
          "base_uri": "https://localhost:8080/"
        },
        "id": "qkHbtgkVL2wY",
        "outputId": "77066730-c55e-40ec-cc74-e2f5bf1935f8"
      },
      "execution_count": null,
      "outputs": [
        {
          "output_type": "stream",
          "name": "stdout",
          "text": [
            "13\n",
            "-1\n"
          ]
        }
      ]
    },
    {
      "cell_type": "code",
      "source": [
        "# vector\n",
        "%%file Q8.cpp\n",
        "#include<iostream>\n",
        "#include<vector>\n",
        "using namespace std;\n",
        "int main(){\n",
        "    vector<int> v;\n",
        "    cout<<\"size\"<<v.size()<<endl;\n",
        "    cout<<\"capacity\"<<v.capacity()<<endl;\n",
        "\n",
        "    v.push_back(5);\n",
        "      cout<<\"size\"<<v.size()<<endl;\n",
        "    cout<<\"capacity\"<<v.capacity()<<endl;\n",
        "    v.push_back(7);\n",
        "      cout<<\"size\"<<v.size()<<endl;\n",
        "    cout<<\"capacity\"<<v.capacity()<<endl;\n",
        "        v.push_back(6);\n",
        "      cout<<\"size\"<<v.size()<<endl;\n",
        "    cout<<\"capacity\"<<v.capacity()<<endl;\n",
        "        v.push_back(4);\n",
        "      cout<<\"size\"<<v.size()<<endl;\n",
        "    cout<<\"capacity\"<<v.capacity()<<endl;\n",
        "        v.push_back(3);\n",
        "      cout<<\"size\"<<v.size()<<endl;\n",
        "    cout<<\"capacity\"<<v.capacity()<<endl;\n",
        "        v.push_back(8);\n",
        "      cout<<\"size\"<<v.size()<<endl;\n",
        "    cout<<\"capacity\"<<v.capacity()<<endl;\n",
        "}"
      ],
      "metadata": {
        "colab": {
          "base_uri": "https://localhost:8080/"
        },
        "id": "LMlH6nsZ7-Wt",
        "outputId": "180b8f89-c447-4780-be7d-276acd5e0bd2"
      },
      "execution_count": null,
      "outputs": [
        {
          "output_type": "stream",
          "name": "stdout",
          "text": [
            "Overwriting Q8.cpp\n"
          ]
        }
      ]
    },
    {
      "cell_type": "code",
      "source": [
        "!g++ Q8.cpp\n",
        "!./a.out"
      ],
      "metadata": {
        "colab": {
          "base_uri": "https://localhost:8080/"
        },
        "id": "KGfbM3xq8iS0",
        "outputId": "74e1096f-dac3-422e-9d65-af6bbe37b83a"
      },
      "execution_count": null,
      "outputs": [
        {
          "output_type": "stream",
          "name": "stdout",
          "text": [
            "size0\n",
            "capacity0\n",
            "size1\n",
            "capacity1\n",
            "size2\n",
            "capacity2\n",
            "size3\n",
            "capacity4\n",
            "size4\n",
            "capacity4\n",
            "size5\n",
            "capacity8\n",
            "size6\n",
            "capacity8\n"
          ]
        }
      ]
    },
    {
      "cell_type": "code",
      "source": [
        "#for loop using int vector\n",
        "%%file Q9.cpp\n",
        "#include<iostream>\n",
        "#include<vector>\n",
        "using namespace std;\n",
        "int main(){\n",
        "    vector<int>v;\n",
        "      int element;\n",
        "    for ( int i=0;i<6;i++){\n",
        "\n",
        "        cin>>element;\n",
        "        v.push_back(element);\n",
        "    }\n",
        "    for( int i=0;i<v.size();i++){\n",
        "        cout<<v[i]<<\" \";\n",
        "    }\n",
        "    cout<<endl;\n",
        "}"
      ],
      "metadata": {
        "colab": {
          "base_uri": "https://localhost:8080/"
        },
        "id": "FdP5xyla-Xya",
        "outputId": "2ff684fa-44b5-43c9-f63f-8c8ba6272557"
      },
      "execution_count": null,
      "outputs": [
        {
          "output_type": "stream",
          "name": "stdout",
          "text": [
            "Overwriting Q9.cpp\n"
          ]
        }
      ]
    },
    {
      "cell_type": "code",
      "source": [
        "!g++ Q9.cpp\n",
        "!./a.out"
      ],
      "metadata": {
        "colab": {
          "base_uri": "https://localhost:8080/"
        },
        "id": "7eeQ8EKI_Y10",
        "outputId": "db07f255-f294-4634-bccf-085a23e32261"
      },
      "execution_count": null,
      "outputs": [
        {
          "output_type": "stream",
          "name": "stdout",
          "text": [
            "54\n",
            "5\n",
            "8\n",
            "7\n",
            "4\n",
            "2\n",
            "54 5 8 7 4 2 \n"
          ]
        }
      ]
    },
    {
      "cell_type": "code",
      "source": [
        "# find the last occrance of the last vector\n",
        "%%file Q10.cpp\n",
        "#include<iostream>\n",
        "#include<vector>\n",
        "using namespace std;\n",
        "int main(){\n",
        "    vector<int> v(5);\n",
        "     for ( int i=0;i<5;i++){\n",
        "        cin>>v[i];\n",
        "\n",
        "     }\n",
        "    cout<<\"enter the value of x is :\"<<endl;\n",
        "    int x;\n",
        "    cin>>x;\n",
        "    int acco=-1;\n",
        "    for( int i=0;i<v.size();i++){\n",
        "        if(v[i]==x){\n",
        "            acco=i;\n",
        "        }\n",
        "    }\n",
        "cout<<acco<<endl;\n",
        "}"
      ],
      "metadata": {
        "colab": {
          "base_uri": "https://localhost:8080/"
        },
        "id": "ayJ11rHFAC_h",
        "outputId": "b692bce4-f814-43ff-c556-97631040e46c"
      },
      "execution_count": null,
      "outputs": [
        {
          "output_type": "stream",
          "name": "stdout",
          "text": [
            "Overwriting Q10.cpp\n"
          ]
        }
      ]
    },
    {
      "cell_type": "code",
      "source": [
        "!g++ Q10.cpp\n",
        "!./a.out"
      ],
      "metadata": {
        "colab": {
          "base_uri": "https://localhost:8080/"
        },
        "id": "q9wNSBMOCE58",
        "outputId": "d8d4d101-9659-481b-aee5-dd823c3378a7"
      },
      "execution_count": null,
      "outputs": [
        {
          "output_type": "stream",
          "name": "stdout",
          "text": [
            "4\n",
            "6\n",
            "7\n",
            "8\n",
            "93\n",
            "enter the value of x is :\n",
            "123\n",
            "-1\n"
          ]
        }
      ]
    },
    {
      "cell_type": "code",
      "source": [
        "\n",
        "# find the number of the sum  of occurrence\n",
        "%%file Q11.cpp\n",
        "#include<iostream>\n",
        "#include<vector>\n",
        "using namespace std;\n",
        "int main(){\n",
        "    vector<int>v(6);\n",
        "    for( int i=0;i<6;i++){\n",
        "        cin>>v[i];\n",
        "    }\n",
        "    cout<<\"enter the number of vector :\"<<endl;\n",
        "    int x;\n",
        "    cin>>x;\n",
        "    int sum=0;\n",
        "    for( int i=0;i<v.size();i++){\n",
        "        if(v[i]==x){\n",
        "            sum+=1;\n",
        "        }\n",
        "    }\n",
        "cout<<sum<<endl;\n",
        "}"
      ],
      "metadata": {
        "colab": {
          "base_uri": "https://localhost:8080/"
        },
        "id": "gGyDfY1jIAXH",
        "outputId": "d656c560-eb90-4d8e-ed30-bcd2c6dba572"
      },
      "execution_count": null,
      "outputs": [
        {
          "output_type": "stream",
          "name": "stdout",
          "text": [
            "Overwriting Q11.cpp\n"
          ]
        }
      ]
    },
    {
      "cell_type": "code",
      "source": [
        "!g++ Q11.cpp\n",
        "!./a.out"
      ],
      "metadata": {
        "colab": {
          "base_uri": "https://localhost:8080/"
        },
        "id": "zWRxWCVDJacl",
        "outputId": "82082fea-f5e5-46c8-d476-f87b46b3e826"
      },
      "execution_count": null,
      "outputs": [
        {
          "output_type": "stream",
          "name": "stdout",
          "text": [
            "2\n",
            "3\n",
            "4\n",
            "3\n",
            "3\n",
            "3\n",
            "enter the number of vector :\n",
            "3\n",
            "4\n"
          ]
        }
      ]
    },
    {
      "cell_type": "code",
      "source": [
        "# find the number of elemnet strictly greater than x .\n",
        "%%file Q12.cpp\n",
        "#include<iostream>\n",
        "#include<vector>\n",
        "using namespace std;\n",
        "int main(){\n",
        "    vector<int> v(7);\n",
        "    for( int i=0;i<6;i++){\n",
        "        cin>>v[i];\n",
        "    }\n",
        "    cout<<\"enter the value of x :\"<<endl;\n",
        "    int x;\n",
        "    int sum=0;\n",
        "    cin>>x;\n",
        "    for( int i=0;i<v.size();i++){\n",
        "        if(v[i]>x){\n",
        "            sum+=1;\n",
        "        }\n",
        "    }\n",
        "    cout<<sum<<endl;\n",
        "}"
      ],
      "metadata": {
        "colab": {
          "base_uri": "https://localhost:8080/"
        },
        "id": "H0PguPptK70q",
        "outputId": "673c8231-10d5-4cc7-ede8-a9e6443b5865"
      },
      "execution_count": null,
      "outputs": [
        {
          "output_type": "stream",
          "name": "stdout",
          "text": [
            "Writing Q12.cpp\n"
          ]
        }
      ]
    },
    {
      "cell_type": "code",
      "source": [
        "!g++ Q12.cpp\n",
        "!./a.out"
      ],
      "metadata": {
        "colab": {
          "base_uri": "https://localhost:8080/"
        },
        "id": "ZCWc94I5MA-y",
        "outputId": "8697ce9e-68f3-491c-dd1d-0afaa2fa068a"
      },
      "execution_count": null,
      "outputs": [
        {
          "output_type": "stream",
          "name": "stdout",
          "text": [
            "1\n",
            "2\n",
            "3\n",
            "4\n",
            "53\n",
            "4\n",
            "enter the value of x :\n",
            "53\n",
            "0\n"
          ]
        }
      ]
    },
    {
      "cell_type": "code",
      "source": [
        "#cheak short or not\n",
        "%%file Q13.cpp\n",
        "#include<iostream>\n",
        "#include<vector>\n",
        "using namespace std;\n",
        "int main(){\n",
        "    vector<int>v(5);\n",
        "    for( int i=0;i<5;i++){\n",
        "        cin>>v[i];\n",
        "\n",
        "    }\n",
        "    bool sorted=true;\n",
        "    for( int i=0;i<v.size();i++){\n",
        "        if(v[i]<=v[i-1]){\n",
        "          sorted=false;\n",
        "        }\n",
        "    }\n",
        "    cout<<sorted<<\" -meanig of 1 is array is soted or 0 not sorted\"<<endl;\n",
        "}"
      ],
      "metadata": {
        "colab": {
          "base_uri": "https://localhost:8080/"
        },
        "id": "z0q6hOeGM7Q0",
        "outputId": "21b3eff8-4b2e-4d4d-c23a-874684853c50"
      },
      "execution_count": null,
      "outputs": [
        {
          "output_type": "stream",
          "name": "stdout",
          "text": [
            "Overwriting Q13.cpp\n"
          ]
        }
      ]
    },
    {
      "cell_type": "code",
      "source": [
        "!g++ Q13.cpp\n",
        "!./a.out"
      ],
      "metadata": {
        "colab": {
          "base_uri": "https://localhost:8080/"
        },
        "id": "qFOtRPacOc0c",
        "outputId": "ee7419ce-99a9-4f81-f78d-c3a2b30b7bff"
      },
      "execution_count": null,
      "outputs": [
        {
          "output_type": "stream",
          "name": "stdout",
          "text": [
            "1\n",
            "7\n",
            "8\n",
            "9\n",
            "89\n",
            "1 -meanig of 1 is array is soted or 0 not sorted\n"
          ]
        }
      ]
    },
    {
      "cell_type": "code",
      "source": [
        "# find the pari of sum\n",
        "%%file Q14.cpp\n",
        "#include<iostream>\n",
        "using namespace std;\n",
        "int main(){\n",
        "    int arr[6];\n",
        "    for ( int i=0; i<6;i++){\n",
        "        cin>>arr[i];\n",
        "    }\n",
        "    cout<<\"enter the value of x:\"<<endl;\n",
        "    int x;\n",
        "    cin>>x;\n",
        "    int ans=0;\n",
        "    for(int i=0;i<6;i++){\n",
        "        for (int j=i+1;j<6;j++){\n",
        "            if(arr[i]+arr[j]==x){\n",
        "                ans+=1;\n",
        "            }\n",
        "        }\n",
        "    }\n",
        "    cout<<ans<<endl;\n",
        "}"
      ],
      "metadata": {
        "colab": {
          "base_uri": "https://localhost:8080/"
        },
        "id": "ikIibiuJjHUX",
        "outputId": "adf2af4b-2239-4c87-c46e-205d78f32985"
      },
      "execution_count": null,
      "outputs": [
        {
          "output_type": "stream",
          "name": "stdout",
          "text": [
            "Writing Q14.cpp\n"
          ]
        }
      ]
    },
    {
      "cell_type": "code",
      "source": [
        "!g++ Q14.cpp\n",
        "!./a.out"
      ],
      "metadata": {
        "colab": {
          "base_uri": "https://localhost:8080/"
        },
        "id": "9cgur08CldCq",
        "outputId": "49db1fac-bdab-44fa-ffd0-73fa09fa43ea"
      },
      "execution_count": null,
      "outputs": [
        {
          "output_type": "stream",
          "name": "stdout",
          "text": [
            "2\n",
            "3\n",
            "1\n",
            "4\n",
            "5\n",
            "5\n",
            "enter the value of x:\n",
            "5\n",
            "2\n"
          ]
        }
      ]
    },
    {
      "cell_type": "code",
      "source": [
        "#count the number of triplets sum equal to x\n",
        "%%file Q15.cpp\n",
        "#include<iostream>\n",
        "using namespace std;\n",
        "int main(){\n",
        "    int arr[7];\n",
        "    for( int i=0;i<7;i++){\n",
        "        cin>>arr[i];\n",
        "\n",
        "    }\n",
        "    cout<<\"enter the value of target :\"<<endl;\n",
        "    int x;\n",
        "    cin>>x;\n",
        "int sum=0;\n",
        "    for( int i=0;i<7;i++){\n",
        "        for( int j=i+1;j<7;j++){\n",
        "            for(int k=j+1;k<7;k++){\n",
        "                if(arr[i]+arr[j]+arr[k]==x){\n",
        "                    sum+=1;\n",
        "                }\n",
        "            }\n",
        "        }\n",
        "    }\n",
        "    cout<<sum<<endl;\n",
        "}"
      ],
      "metadata": {
        "colab": {
          "base_uri": "https://localhost:8080/"
        },
        "id": "f_7m5dNFmjH6",
        "outputId": "2c16b52a-a2b8-446d-ab0f-4fbc5826120f"
      },
      "execution_count": null,
      "outputs": [
        {
          "output_type": "stream",
          "name": "stdout",
          "text": [
            "Writing Q15.cpp\n"
          ]
        }
      ]
    },
    {
      "cell_type": "code",
      "source": [
        "!g++ Q15.cpp\n",
        "!./a.out"
      ],
      "metadata": {
        "colab": {
          "base_uri": "https://localhost:8080/"
        },
        "id": "unuFACYdoPE0",
        "outputId": "e1d3aa92-23bd-4eaa-fa90-ff4cfd0524fd"
      },
      "execution_count": null,
      "outputs": [
        {
          "output_type": "stream",
          "name": "stdout",
          "text": [
            "5\n",
            "7\n",
            "5\n",
            "6\n",
            "3\n",
            "2\n",
            "5\n",
            "enter the value of target :\n",
            "7\n",
            "0\n"
          ]
        }
      ]
    },
    {
      "cell_type": "code",
      "source": [
        "# find the uniqe number\n",
        "%%file Q16.cpp\n",
        "#include<iostream>\n",
        "using namespace std;\n",
        "int main(){\n",
        "    int arr[7];\n",
        "    for( int i=0;i<7;i++){\n",
        "\n",
        "                          cin>>arr[i];\n",
        "    }\n",
        "\n",
        "    for( int i=0;i<7;i++){\n",
        "        for( int j=i+1;j<7;j++){\n",
        "            if(arr[i]==arr[j]){\n",
        "                arr[i]=arr[j]=-1;\n",
        "            }\n",
        "        }\n",
        "    }\n",
        "     int x=0;\n",
        "    for( int i=0;i<7;i++){\n",
        "        if(arr[i]>0){\n",
        "            cout<<arr[i]<<endl;\n",
        "        }\n",
        "    }\n",
        "\n",
        "}"
      ],
      "metadata": {
        "colab": {
          "base_uri": "https://localhost:8080/"
        },
        "id": "rLzrujOzqTER",
        "outputId": "64650eb7-0eb5-4625-fab7-1e7067019191"
      },
      "execution_count": null,
      "outputs": [
        {
          "output_type": "stream",
          "name": "stdout",
          "text": [
            "Overwriting Q16.cpp\n"
          ]
        }
      ]
    },
    {
      "cell_type": "code",
      "source": [
        "!g++ Q16.cpp\n",
        "!./a.out"
      ],
      "metadata": {
        "colab": {
          "base_uri": "https://localhost:8080/"
        },
        "id": "tmWGDat5rQ_d",
        "outputId": "eb4cb7ca-28e0-432c-eada-cd0bcf75a8de"
      },
      "execution_count": null,
      "outputs": [
        {
          "output_type": "stream",
          "name": "stdout",
          "text": [
            "6\n",
            "5\n",
            "4\n",
            "3\n",
            "2\n",
            "1\n",
            "7\n",
            "6\n",
            "5\n",
            "4\n",
            "3\n",
            "2\n",
            "1\n",
            "7\n"
          ]
        }
      ]
    },
    {
      "cell_type": "code",
      "source": [
        "#find the secand largest element\n",
        "%%file Q17.cpp\n",
        "#include<iostream>\n",
        "#include<cmath>\n",
        "#include<limits.h>\n",
        "using namespace std;\n",
        "int largestelementind( int arr[],int size){\n",
        "      int max=INT_MIN;\n",
        "                                            int maxind=-1;\n",
        "       for( int i=0;i<size;i++){\n",
        "          if(arr[i]>max){\n",
        "              max=arr[i];\n",
        "              maxind=i;\n",
        "          }\n",
        "       }\n",
        "return maxind;\n",
        "\n",
        "}\n",
        "int main(){\n",
        "    int arr[7];\n",
        "    for( int i=0;i<7;i++){\n",
        "        cin>>arr[i];\n",
        "\n",
        "    }\n",
        "    int indexoflar=largestelementind(arr,7);\n",
        "arr[indexoflar]=-1;\n",
        "    int indexofsecandlargest=largestelementind(arr,7);\n",
        "    cout<<\"the secand largest number\"<<endl;\n",
        "    cout<<arr[indexofsecandlargest]<<endl;\n",
        "    return 0;\n",
        "}"
      ],
      "metadata": {
        "colab": {
          "base_uri": "https://localhost:8080/"
        },
        "id": "0bpDoCgivK0X",
        "outputId": "782afd23-c3e1-4190-f32a-cbfc8f87b361"
      },
      "execution_count": null,
      "outputs": [
        {
          "output_type": "stream",
          "name": "stdout",
          "text": [
            "Overwriting Q17.cpp\n"
          ]
        }
      ]
    },
    {
      "cell_type": "code",
      "source": [
        "!g++ Q17.cpp\n",
        "!./a.out"
      ],
      "metadata": {
        "id": "bppoDBhXw6sO",
        "colab": {
          "base_uri": "https://localhost:8080/"
        },
        "outputId": "e85a6447-d536-4538-c129-34cebefc9076"
      },
      "execution_count": null,
      "outputs": [
        {
          "output_type": "stream",
          "name": "stdout",
          "text": [
            "2\n",
            "4\n",
            "8\n",
            "9\n",
            "5\n",
            "3\n",
            "9\n",
            "the secand largest number\n",
            "9\n"
          ]
        }
      ]
    },
    {
      "cell_type": "code",
      "source": [
        "# rotate the array\n",
        "%%file Q18.cpp\n",
        "#include<iostream>\n",
        "using namespace std;\n",
        "int main(){\n",
        "    int arr[]={1,37,3,9,7};\n",
        "    int n=5;\n",
        "    int k;\n",
        "    cin>>k;\n",
        "    k=k%n;\n",
        "    int ansarr[5];\n",
        "    int j=0;\n",
        "    for(int i=n-k;i<n;i++){\n",
        "        ansarr[j++]=arr[i];\n",
        "    }\n",
        "    for( int i=0;i<=k;i++){\n",
        "        ansarr[j++]=arr[i];\n",
        "    }\n",
        "    for( int i=0;i<n;i++){\n",
        "        cout<<ansarr[i]<<\" \";\n",
        "    }\n",
        "\n",
        "}"
      ],
      "metadata": {
        "colab": {
          "base_uri": "https://localhost:8080/"
        },
        "id": "q1MoFPByQjnH",
        "outputId": "996f06ba-7cd4-4710-cd15-7f5ecbb29fdd"
      },
      "execution_count": null,
      "outputs": [
        {
          "output_type": "stream",
          "name": "stdout",
          "text": [
            "Writing Q18.cpp\n"
          ]
        }
      ]
    },
    {
      "cell_type": "code",
      "source": [
        "!g++ Q18.cpp\n",
        "!./a.out"
      ],
      "metadata": {
        "colab": {
          "base_uri": "https://localhost:8080/"
        },
        "id": "z1IZWspobCm0",
        "outputId": "5e1526df-7a5e-428b-c5ea-7d8bd42cadc8"
      },
      "execution_count": null,
      "outputs": [
        {
          "output_type": "stream",
          "name": "stdout",
          "text": [
            "3\n",
            "*** stack smashing detected ***: terminated\n"
          ]
        }
      ]
    },
    {
      "cell_type": "code",
      "source": [],
      "metadata": {
        "id": "j5JCy7DH91OZ"
      },
      "execution_count": null,
      "outputs": []
    }
  ]
}